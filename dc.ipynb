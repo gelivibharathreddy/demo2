#only Dzs Cls
class color:
   PURPLE = '\033[95m'
   CYAN = '\033[96m'
   DARKCYAN = '\033[36m'
   BLUE = '\033[94m'
   GREEN = '\033[92m'
   YELLOW = '\033[93m'
   RED = '\033[91m'
   BOLD = '\033[1m'
   UNDERLINE = '\033[4m'
   END = '\033[0m'
i=2
D1=1
D2=1
D3=1
C1=1
C2=1
C3=1
d1n=1
d2n=1
d3n=1
c1n=1
c2n=1
c3n=1
dd1=0
dd2=0
dd3=0
cc1=0
cc2=0
cc3=0
INV=0
OUT=0
INVD =0
OUTD =0
INVC =0
OUTC =0
RCNTD =0
RCNTC =0
PRF =0
count =0
NO10 =''
def DC(n):
  if n not in range(0,37 ) and n!=100:
      print("OUT of range")
  else:
    global i
    n1=1*i
    n2=2*i
    n3=3*i
    n4=4*i
    n5=6*i
    n6=8*i
    n7=12*i
    n8=6*i
    n9=11*i
    n10=11*i
    n11=16*i
    n12=16*i
    global D1
    global D2
    global D3
    global C1
    global C2
    global C3
    global d1n
    global d2n
    global d3n
    global c1n
    global c2n
    global c3n
    global dd1
    global dd2
    global dd3
    global cc1
    global cc2
    global cc3
    global INV
    global OUT
    global INVD
    global OUTD
    global INVC
    global OUTC
    global RCNTD
    global RCNTC
    global PRF
    global count
    global NO10
    INV +=dd1+dd2+dd3+cc1+cc2+cc3
    INVD +=dd1+dd2+dd3
    INVC +=cc1+cc2+cc3
    if n == 100:
      D1 =1
      D2 =1
      D3 =1
      C1 =1
      C2 =1
      C3 =1
      d1n=1
      d2n=1
      d3n=1
      c1n=1
      c2n=1
      c3n=1
      dd1=0
      dd2=0
      dd3=0
      cc1=0
      cc2=0
      cc3=0
      INV=0
      OUT=0
      INVD =0
      OUTD =0
      INVC =0
      OUTC =0
      count=0
    elif n == 0:
      D1 +=1
      if D1>10:
          NO10 +=', D1'
          D1=1
          d1n = 0
      D2 +=1
      if D2>10:
          NO10 +=', D2'
          D2=1
          d2n = 0
      D3 +=1
      if D3>10:
          NO10 +=', D3'
          D3=1
          d3n = 0
      C1 +=1
      if C1>10:
          NO10 +=', C1'
          C1=1
          c1n = 0
      C2 +=1
      if C2>10:
          NO10 +=', C2'
          C2=1
          c2n = 0
      C3 +=1
      if C3>10:
          NO10 +=', C3'
          C3=1
          c3n = 0
    else:
      if n in range(1,13):
        if d1n ==1:
            OUT += dd1*3
            OUTD += dd1*3
        D1=1
        D2 +=1
        D3 +=1
        if D2>10:
          NO10 +=', D2'
          D2=1
          d2n  =0
        if D3>10:
          NO10 +=', D3'
          D3=1
          d3n  =0
      elif n in range(13,25):
        if d2n ==1:
            OUT += dd2*3
            OUTD += dd2*3
        D2=1
        D1 +=1
        D3 +=1
        if D1>10:
          NO10 +=', D1'
          D1=1
          d1n  =0
        if D3>10:
          NO10 +=', D3'
          D3=1
          d3n  =0
      elif n in range(25,37):
        if d3n ==1:
            OUT += dd3*3
            OUTD += dd3*3
        D3=1
        D1 +=1
        D2 +=1
        if D2>10:
          NO10 +=', D2'
          D2=1
          d2n  =0
        if D1>10:
          NO10 +=', D1'
          D1=1
          d1n  =0
      if n in (1,4,7,10,13,16,19,22,25,28,31,34):
        if c1n ==1:
            OUT += cc1*3
            OUTC += cc1*3
        C1=1
        C2 +=1
        C3 +=1
        if C2>10:
          NO10 +=', C2'
          C2=1
          c2n  =0
        if C3>10:
          NO10 +=', C3'
          C3=1
          c3n  =0
      elif n in (2,5,8,11,14,17,20,23,26,29,32,35):
        if c2n ==1:
            OUT += cc2*3
            OUTC += cc2*3
        C2=1
        C1 +=1
        C3 +=1
        if C1>10:
          NO10 +=', C1'
          C1=1
          c1n  =0
        if C3>10:
          NO10 +=', C3'
          C3=1
          c3n  =0
      elif n >0 and n % 3 ==0:
        if c3n ==1 :
            OUT += cc3*3
            OUTC += cc3*3
        C3=1
        C1 +=1
        C2 +=1
        if C2>10:
          NO10 +=', C2'
          C2=1
          c2n  =0
        if C1>10:
          NO10 +=', C1'
          C1=1
          c1n  =0
    if d1n ==0 or d2n ==0 or d3n ==0 or c1n ==0 or c2n ==0 or c3n ==0:
          if D1 <=6:d1n=0
          if D2 <=6:d2n=0
          if D3 <=6:d3n=0
          if C1 <=6:c1n=0
          if C2 <=6:c2n=0
          if C3 <=6:c3n=0
    d1 =eval("n"+str((D1)))*d1n
    d2 =eval("n"+str((D2)))*d2n
    d3 =eval("n"+str((D3)))*d3n
    c1 =eval("n"+str((C1)))*c1n
    c2 =eval("n"+str((C2)))*c2n
    c3 =eval("n"+str((C3)))*c3n
    RCNTD = 0
    RCNTC = 0
    if D1 >7 or D2 >7 or D3 >7:
        for zd in (D1,D2,D3):
            if zd >7 :
                RCNTD +=1
    if C1 >7 or C2 >7 or C3 >7:
        for zc in (C1,C2,C3):
            if zc >7 :
                RCNTC +=1
    if D1 >7 :
            d1 += int(max(3*i,(min((INV-OUT),(INVD-OUTD))-(d2+d3))/(2*RCNTD)))
    if D2 >7 :
            d2 += int(max(3*i,(min((INV-OUT),(INVD-OUTD))-(d1+d3))/(2*RCNTD)))
    if D3 >7 :
            d3 += int(max(3*i,(min((INV-OUT),(INVD-OUTD))-(d1+d2))/(2*RCNTD)))
    if C1 >7 :
            c1 += int(max(3*i,(min((INV-OUT),(INVC-OUTC))-(c2+c3))/(2*RCNTC)))
    if C2 >7 :
            c2 += int(max(3*i,(min((INV-OUT),(INVC-OUTC))-(c1+c3))/(2*RCNTC)))
    if C3 >7 :
            c3 += int(min(3*i,(min((INV-OUT),(INVC-OUTC))-(c1+c2))/(2*RCNTC)))
    dd1 =d1 -min(d1,d2,d3)
    dd2 =d2 -min(d1,d2,d3)
    dd3 =d3 -min(d1,d2,d3)
    cc1 =c1 -min(c1,c2,c3)
    cc2 =c2 -min(c1,c2,c3)
    cc3 =c3 -min(c1,c2,c3)
    res =''
    if d1n==0 and d2n==0 and d3n==0 and c1n==0 and c2n==0 and c3n==0:
        PRF +=OUT-INV
        DC(100)
    elif OUT-INV >=0 and count >0 :
        PRF +=OUT-INV
        DC(100)
    elif OUT-INV < 0 or n!=100:
        count +=1
        if dd1>0: print("Done - "+color.BOLD +str(dd1)+color.END )
        else:print("Done - ")
        print()
        if dd2>0:print("Dtwo - "+color.RED +str(dd2)+color.END )
        else:print("Dtwo - ")
        print()
        if dd3>0:print("D3tre - "+color.BOLD +str(dd3)+color.END)
        else:print("Dtre - ")
        print()
        res +="   Cone - "+color.RED +str(cc1)+color.END if cc1>0 else "   Cone - "
        res +=" ,Ctwo - "+color.BOLD +str(cc2)+color.END if cc2>0 else " ,Ctwo - "
        res +=" ,Ctre - "+color.RED +str(cc3)+color.END if cc3>0 else " ,Ctre - "
        print(res)
        print(color.RED +str(int(OUT-INV))+color.END)
        if count >6:
          print("count :",count)
        if NO10 !='':
          print("NO10 :",NO10)
